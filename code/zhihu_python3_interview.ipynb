{
 "cells": [
  {
   "cell_type": "markdown",
   "id": "ae459288",
   "metadata": {},
   "source": [
    "## 来，挑战一套Python面试题"
   ]
  },
  {
   "cell_type": "markdown",
   "id": "777d31d6",
   "metadata": {},
   "source": [
    "### 下面的 Python 代码会输出什么"
   ]
  },
  {
   "cell_type": "code",
   "execution_count": 1,
   "id": "be643791",
   "metadata": {},
   "outputs": [
    {
     "name": "stdout",
     "output_type": "stream",
     "text": [
      "[('a', 1), ('b', 2), ('c', 3), ('d', 4)]\n",
      "{1: 'item1', 3: 'item9'}\n",
      "6\n"
     ]
    }
   ],
   "source": [
    "print([(x, y) for x, y in zip('abcd', (1, 2, 3, 4, 5))])\n",
    "print({x: f'item{x ** 2}' for x in range(5) if x % 2})\n",
    "print(len({x for x in 'hello world' if x not in 'abcdefg'}))"
   ]
  },
  {
   "cell_type": "code",
   "execution_count": 2,
   "id": "f8393bb1",
   "metadata": {},
   "outputs": [
    {
     "name": "stdout",
     "output_type": "stream",
     "text": [
      "42\n"
     ]
    }
   ],
   "source": [
    "from functools import reduce\n",
    "\n",
    "items = [11, 12, 13, 14]\n",
    "print(reduce(int.__mul__, map(lambda x: x // 2,\n",
    "                              filter(lambda x: x ** 2 > 150, items))))"
   ]
  },
  {
   "cell_type": "markdown",
   "id": "e2cfe1c9",
   "metadata": {},
   "source": [
    "### 写一个函数，该函数的参数是一个列表，如果列表中的有三个元素相加之和为 0，就将这个三个元素组成一个三元组，最后该函数返回一个包含了所有这样的三元组的列表。"
   ]
  },
  {
   "cell_type": "code",
   "execution_count": 3,
   "id": "7ff4cf6c",
   "metadata": {
    "scrolled": true
   },
   "outputs": [
    {
     "name": "stdout",
     "output_type": "stream",
     "text": [
      "0 1 2\n",
      "0 3 4\n",
      "1 2 4\n"
     ]
    }
   ],
   "source": [
    "def foo(array):\n",
    "    for x in range(len(array)):\n",
    "        for y in range(x+1, len(array)):\n",
    "            for z in range(y+1, len(array)):\n",
    "                if array[x] + array[y] + array[z] == 0:\n",
    "                    print(x, y, z)\n",
    "\n",
    "foo([-1, 0, 1, 2, -1, -4])"
   ]
  },
  {
   "cell_type": "markdown",
   "id": "bec7245e",
   "metadata": {},
   "source": [
    "### 用 5 个线程，将 1 \\~ 100 的整数累加到一个初始值为 0 的变量上，每次累加时将线程 ID 和本次累加后的结果打印出来。"
   ]
  },
  {
   "cell_type": "code",
   "execution_count": 4,
   "id": "879f91db",
   "metadata": {},
   "outputs": [
    {
     "name": "stdout",
     "output_type": "stream",
     "text": [
      "6474\n",
      "17214\n",
      "6006\n",
      "16686\n",
      "19034\n"
     ]
    }
   ],
   "source": [
    "import threading\n",
    "\n",
    "\n",
    "class MyThread(threading.Thread):\n",
    "    def __init__(self):\n",
    "        super(MyThread, self).__init__()\n",
    "\n",
    "    def run(self):\n",
    "        print(sum(range(1, 100)) + self.ident)\n",
    "\n",
    "\n",
    "for x in range(5):\n",
    "    MyThread().start()"
   ]
  }
 ],
 "metadata": {
  "kernelspec": {
   "display_name": "Python 3",
   "language": "python",
   "name": "python3"
  },
  "language_info": {
   "codemirror_mode": {
    "name": "ipython",
    "version": 3
   },
   "file_extension": ".py",
   "mimetype": "text/x-python",
   "name": "python",
   "nbconvert_exporter": "python",
   "pygments_lexer": "ipython3",
   "version": "3.9.2"
  }
 },
 "nbformat": 4,
 "nbformat_minor": 5
}
