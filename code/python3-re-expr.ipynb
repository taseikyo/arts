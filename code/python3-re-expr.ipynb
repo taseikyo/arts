{
 "cells": [
  {
   "cell_type": "markdown",
   "metadata": {},
   "source": [
    "> @Date    : 2021-01-19 10:33:32\n",
    ">\n",
    "> @Author  : Lewis Tian (taseikyo@gmail.com)\n",
    ">\n",
    "> @Link    : github.com/taseikyo\n",
    "\n",
    "# Python 正则表达式 特殊符号和字符\n",
    "\n",
    "> 原文：https://www.kingkk.com/2017/12/%E6%AD%A3%E5%88%99%E8%A1%A8%E8%BE%BE%E5%BC%8F%E7%89%B9%E6%AE%8A%E7%AC%A6%E5%8F%B7%E5%92%8C%E5%AD%97%E7%AC%A6  kingkk 2017-12-04"
   ]
  },
  {
   "cell_type": "markdown",
   "metadata": {},
   "source": [
    "## 择一匹配符号：`|`"
   ]
  },
  {
   "cell_type": "code",
   "execution_count": 1,
   "metadata": {},
   "outputs": [
    {
     "name": "stdout",
     "output_type": "stream",
     "text": [
      "bat\n"
     ]
    }
   ],
   "source": [
    "import re\n",
    "\n",
    "# 匹配 bat 或 bet 或 bit\n",
    "bt = 'bat|bet|bit'\n",
    "m = re.match(bt, 'bat')\n",
    "if m: print(m.group())\n",
    "else: print(\"None match!\")"
   ]
  },
  {
   "cell_type": "code",
   "execution_count": 2,
   "metadata": {},
   "outputs": [
    {
     "name": "stdout",
     "output_type": "stream",
     "text": [
      "None match!\n"
     ]
    }
   ],
   "source": [
    "m = re.match(bt, 'bot')\n",
    "if m: print(m.group())\n",
    "else: print(\"None match!\")"
   ]
  },
  {
   "cell_type": "code",
   "execution_count": 3,
   "metadata": {
    "scrolled": true
   },
   "outputs": [
    {
     "name": "stdout",
     "output_type": "stream",
     "text": [
      "bit\n"
     ]
    }
   ],
   "source": [
    "m = re.search(bt, 'he bit me')\n",
    "if m: print(m.group())\n",
    "else: print(\"None match!\")"
   ]
  },
  {
   "cell_type": "markdown",
   "metadata": {},
   "source": [
    "## 匹配任意单个字符（包括空格，除了换行符\\n)：`.`\n",
    "\n",
    "tip:若想搜索真正的点号可以通过 `\\` 转义"
   ]
  },
  {
   "cell_type": "code",
   "execution_count": 4,
   "metadata": {},
   "outputs": [
    {
     "name": "stdout",
     "output_type": "stream",
     "text": [
      "bend\n"
     ]
    }
   ],
   "source": [
    "anyend = '.end'\n",
    "# 匹配任意字符\n",
    "m = re.match(anyend, 'bend')\n",
    "if m: print(m.group())\n",
    "else: print(\"None match!\")"
   ]
  },
  {
   "cell_type": "code",
   "execution_count": 5,
   "metadata": {},
   "outputs": [
    {
     "name": "stdout",
     "output_type": "stream",
     "text": [
      "None match!\n"
     ]
    }
   ],
   "source": [
    "# 不匹配无字符\n",
    "m = re.match(anyend, 'end')\n",
    "if m: print(m.group())\n",
    "else: print(\"None match!\")"
   ]
  },
  {
   "cell_type": "code",
   "execution_count": 6,
   "metadata": {},
   "outputs": [
    {
     "name": "stdout",
     "output_type": "stream",
     "text": [
      "None match!\n"
     ]
    }
   ],
   "source": [
    "# 不匹配换行\n",
    "m = re.match(anyend, '\\nend')\n",
    "if m: print(m.group())\n",
    "else: print(\"None match!\")"
   ]
  },
  {
   "cell_type": "code",
   "execution_count": 7,
   "metadata": {
    "scrolled": true
   },
   "outputs": [
    {
     "name": "stdout",
     "output_type": "stream",
     "text": [
      " end\n"
     ]
    }
   ],
   "source": [
    "# 匹配 ' '\n",
    "m = re.match(anyend, ' end')\n",
    "if m: print(m.group())\n",
    "else: print(\"None match!\")"
   ]
  },
  {
   "cell_type": "markdown",
   "metadata": {},
   "source": [
    "## 创建字符集: [ ]\n",
    "\n",
    "[abc] 匹配 a 或 b 或 c 中任意一个字符"
   ]
  },
  {
   "cell_type": "code",
   "execution_count": 8,
   "metadata": {},
   "outputs": [
    {
     "name": "stdout",
     "output_type": "stream",
     "text": [
      "r2d2\n"
     ]
    }
   ],
   "source": [
    "m = re.match('[cr][23][dp][o2]', 'r2d2')\n",
    "if m: print(m.group())\n",
    "else: print(\"None match!\")"
   ]
  },
  {
   "cell_type": "code",
   "execution_count": 9,
   "metadata": {
    "scrolled": true
   },
   "outputs": [
    {
     "name": "stdout",
     "output_type": "stream",
     "text": [
      "None match!\n"
     ]
    }
   ],
   "source": [
    "m = re.match('[cr][23][dp][o2]', 'c3eo')\n",
    "if m: print(m.group())\n",
    "else: print(\"None match!\")"
   ]
  },
  {
   "cell_type": "markdown",
   "metadata": {},
   "source": [
    "## 分组\n",
    "\n",
    "group() 通常用于显示所有匹配部分，但也可以用于取各个子组 groups() 可以用来获取一个包含所有匹配字符串的元组"
   ]
  },
  {
   "cell_type": "code",
   "execution_count": 10,
   "metadata": {
    "scrolled": true
   },
   "outputs": [
    {
     "data": {
      "text/plain": [
       "('abc', '123')"
      ]
     },
     "execution_count": 10,
     "metadata": {},
     "output_type": "execute_result"
    }
   ],
   "source": [
    "m = re.match('(\\w\\w\\w)-(\\d\\d\\d)','abc-123')\n",
    "\n",
    "m.group()  \n",
    "# 'abc-123'\n",
    "\n",
    "# 子组 1 \n",
    "m.group(1) \n",
    "# 'abc'\n",
    "\n",
    "# 子组 2\n",
    "m.group(2)\n",
    "# '123'\n",
    "\n",
    "# 全部子组，存放与元组中  \n",
    "m.groups()\n",
    "# ('abc', '123')"
   ]
  },
  {
   "cell_type": "code",
   "execution_count": 11,
   "metadata": {},
   "outputs": [
    {
     "data": {
      "text/plain": [
       "('ab', ())"
      ]
     },
     "execution_count": 11,
     "metadata": {},
     "output_type": "execute_result"
    }
   ],
   "source": [
    "# 不存在子组\n",
    "m = re.match('ab','ab')\n",
    "m.group(), m.groups()"
   ]
  },
  {
   "cell_type": "code",
   "execution_count": 12,
   "metadata": {},
   "outputs": [
    {
     "data": {
      "text/plain": [
       "('ab', 'ab', ('ab',))"
      ]
     },
     "execution_count": 12,
     "metadata": {},
     "output_type": "execute_result"
    }
   ],
   "source": [
    "# 一个子组\n",
    "m = re.match('(ab)','ab')\n",
    "m.group(), m.group(1), m.groups()"
   ]
  },
  {
   "cell_type": "code",
   "execution_count": 13,
   "metadata": {},
   "outputs": [
    {
     "data": {
      "text/plain": [
       "('ab', 'ab', 'b', ('ab', 'b'))"
      ]
     },
     "execution_count": 13,
     "metadata": {},
     "output_type": "execute_result"
    }
   ],
   "source": [
    "# 两个嵌套子组\n",
    "m = re.match('(a(b))','ab')\n",
    "\n",
    "m.group(), m.group(1), m.group(2), m.groups()"
   ]
  },
  {
   "cell_type": "markdown",
   "metadata": {},
   "source": [
    "## 匹配起始结尾、边界单词\n",
    "\n",
    "例：(tips 该操作符多用于 search 而不是 match)\n",
    "\n",
    "- ^form 匹配以 form 作为起始的字符串\n",
    "- form$ 匹配以 form 为结尾的字符串\n",
    "- ^form$ 等价于匹配单个 form 字符串\n",
    "- \\b 匹配边界字符串\n",
    "- \\B 匹配非边界字符串"
   ]
  },
  {
   "cell_type": "code",
   "execution_count": 14,
   "metadata": {},
   "outputs": [
    {
     "name": "stdout",
     "output_type": "stream",
     "text": [
      "is\n"
     ]
    }
   ],
   "source": [
    "m = re.search('^is', 'is a dog')\n",
    "if m: print(m.group())\n",
    "else: print(\"None match!\")"
   ]
  },
  {
   "cell_type": "code",
   "execution_count": 15,
   "metadata": {},
   "outputs": [
    {
     "name": "stdout",
     "output_type": "stream",
     "text": [
      "None match!\n"
     ]
    }
   ],
   "source": [
    "m = re.search('is$', 'is a dog')\n",
    "if m: print(m.group())\n",
    "else: print(\"None match!\")"
   ]
  },
  {
   "cell_type": "code",
   "execution_count": 16,
   "metadata": {},
   "outputs": [
    {
     "name": "stdout",
     "output_type": "stream",
     "text": [
      "None match!\n"
     ]
    }
   ],
   "source": [
    "m = re.search('^dog$', 'is a dog')\n",
    "if m: print(m.group())\n",
    "else: print(\"None match!\")"
   ]
  },
  {
   "cell_type": "code",
   "execution_count": 17,
   "metadata": {
    "scrolled": true
   },
   "outputs": [
    {
     "name": "stdout",
     "output_type": "stream",
     "text": [
      "is a dog\n"
     ]
    }
   ],
   "source": [
    "m = re.search('^is a dog$', 'is a dog')\n",
    "if m: print(m.group())\n",
    "else: print(\"None match!\")"
   ]
  },
  {
   "cell_type": "markdown",
   "metadata": {},
   "source": [
    "前后出现空格或者换行时都属于 \\b 的边界匹配"
   ]
  },
  {
   "cell_type": "code",
   "execution_count": 18,
   "metadata": {},
   "outputs": [
    {
     "name": "stdout",
     "output_type": "stream",
     "text": [
      "dog\n"
     ]
    }
   ],
   "source": [
    "# 匹配空格作为边界\n",
    "m = re.search(r'\\bdog', 'is a dog')\n",
    "if m: print(m.group())\n",
    "else: print(\"None match!\")"
   ]
  },
  {
   "cell_type": "code",
   "execution_count": 19,
   "metadata": {},
   "outputs": [
    {
     "name": "stdout",
     "output_type": "stream",
     "text": [
      "dog\n"
     ]
    }
   ],
   "source": [
    "# 匹配换行符作为边界\n",
    "m = re.search(r'\\bdog', 'is a\\ndog')\n",
    "if m: print(m.group())\n",
    "else: print(\"None match!\")"
   ]
  },
  {
   "cell_type": "code",
   "execution_count": 20,
   "metadata": {},
   "outputs": [
    {
     "name": "stdout",
     "output_type": "stream",
     "text": [
      "None match!\n"
     ]
    }
   ],
   "source": [
    "# 匹配失败\n",
    "m = re.search(r'\\bog', 'is a dog')\n",
    "if m: print(m.group())\n",
    "else: print(\"None match!\")"
   ]
  },
  {
   "cell_type": "code",
   "execution_count": 21,
   "metadata": {
    "scrolled": true
   },
   "outputs": [
    {
     "name": "stdout",
     "output_type": "stream",
     "text": [
      "og\n"
     ]
    }
   ],
   "source": [
    "# \\B 匹配非边界字符串\n",
    "m = re.search(r'\\Bog', 'is a dog')\n",
    "if m: print(m.group())\n",
    "else: print(\"None match!\")"
   ]
  },
  {
   "cell_type": "markdown",
   "metadata": {},
   "source": [
    "tips: 使用 r'xxx'的原始字符串避免正则匹配时的转义"
   ]
  },
  {
   "cell_type": "markdown",
   "metadata": {},
   "source": [
    "## 脱字符 `^`\n",
    "\n",
    "直接使用表示匹配字符串的起始部分 紧跟在左括号右边表示不匹配给定字符集，例如\n",
    "\n",
    "- [^\\n] 不匹配换行符\n",
    "- [^aeiou] 不匹配元音字符"
   ]
  },
  {
   "cell_type": "code",
   "execution_count": 22,
   "metadata": {},
   "outputs": [
    {
     "data": {
      "text/plain": [
       "['b', 'c', 'd', 'f', 'g']"
      ]
     },
     "execution_count": 22,
     "metadata": {},
     "output_type": "execute_result"
    }
   ],
   "source": [
    "re.findall('[^aeiou]', 'abcdefg')"
   ]
  },
  {
   "cell_type": "markdown",
   "metadata": {},
   "source": [
    "## 拓展符号\n",
    "\n",
    "(?iLmsux) 用以标记并实现某些功能\n",
    "\n",
    "这里的”i”, “L”, “m”, “s”, “u”, “x”，它们不匹配任何字串，而是表示对应 python 中 re 模块当中的 (re.I, re.L, re.M, re.S, re.U, re.X) 的 6 种选项。\n",
    "\n",
    "```\n",
    "I = IGNORECASE # 忽略大小写\n",
    "L = LOCALE     # 字符集本地化,为了支持多语言版本的字符集使用环境\n",
    "U = UNICODE    # 使用\\w,\\W,\\b,\\B这些元字符时将按照UNICODE定义的属性\n",
    "M = MULTILINE  # 多行模式,改变 ^ 和 $ 的行为\n",
    "S = DOTALL     # '.' 的匹配不受限制,包括换行符\n",
    "X = VERBOSE    # 冗余模式,可以忽略正则表达式中的空白和#号的注释\n",
    "```\n",
    "\n",
    "### re.I/IGNORECASE (忽略大小写的匹配)"
   ]
  },
  {
   "cell_type": "code",
   "execution_count": 23,
   "metadata": {},
   "outputs": [
    {
     "data": {
      "text/plain": [
       "['Yes', 'yes', 'Yes']"
      ]
     },
     "execution_count": 23,
     "metadata": {},
     "output_type": "execute_result"
    }
   ],
   "source": [
    "re.findall(r'(?i)yes', 'Yes?yes.Yes!!')"
   ]
  },
  {
   "cell_type": "code",
   "execution_count": 24,
   "metadata": {
    "scrolled": true
   },
   "outputs": [
    {
     "data": {
      "text/plain": [
       "['Yes', 'yes', 'Yes']"
      ]
     },
     "execution_count": 24,
     "metadata": {},
     "output_type": "execute_result"
    }
   ],
   "source": [
    "re.findall(r'yes', 'Yes?yes.Yes!!', re.I)"
   ]
  },
  {
   "cell_type": "code",
   "execution_count": 25,
   "metadata": {},
   "outputs": [
    {
     "data": {
      "text/plain": [
       "['The', 'tHoEs', 'tHat']"
      ]
     },
     "execution_count": 25,
     "metadata": {},
     "output_type": "execute_result"
    }
   ],
   "source": [
    "re.findall(r'(?i)th\\w+', 'The?tHoEs.tHat!!')"
   ]
  },
  {
   "cell_type": "code",
   "execution_count": 26,
   "metadata": {
    "scrolled": true
   },
   "outputs": [
    {
     "data": {
      "text/plain": [
       "['The', 'tHoEs', 'tHat']"
      ]
     },
     "execution_count": 26,
     "metadata": {},
     "output_type": "execute_result"
    }
   ],
   "source": [
    "re.findall(r'th\\w+', 'The?tHoEs.tHat!!', re.I)"
   ]
  },
  {
   "cell_type": "markdown",
   "metadata": {},
   "source": [
    "### re.M/MULTILINE（进行跨行搜索）"
   ]
  },
  {
   "cell_type": "code",
   "execution_count": 27,
   "metadata": {},
   "outputs": [
    {
     "data": {
      "text/plain": [
       "['this', 'that']"
      ]
     },
     "execution_count": 27,
     "metadata": {},
     "output_type": "execute_result"
    }
   ],
   "source": [
    "# 匹配 th 开头的段落\n",
    "re.findall(r'(?m)(^th[\\w]+)',\"\"\"\n",
    "this is first line,\n",
    "another line,\n",
    "that line,it's the best\n",
    "\"\"\")"
   ]
  },
  {
   "cell_type": "code",
   "execution_count": 28,
   "metadata": {},
   "outputs": [
    {
     "data": {
      "text/plain": [
       "['this', 'that']"
      ]
     },
     "execution_count": 28,
     "metadata": {},
     "output_type": "execute_result"
    }
   ],
   "source": [
    "re.findall(r'(^th[\\w]+)',\"\"\"\n",
    "this is first line,\n",
    "another line,\n",
    "that line,it's the best\n",
    "\"\"\", re.M)"
   ]
  },
  {
   "cell_type": "markdown",
   "metadata": {},
   "source": [
    "### re.S/DOTALL (使点号 . 可以用来表示换行符 \\n)"
   ]
  },
  {
   "cell_type": "code",
   "execution_count": 29,
   "metadata": {},
   "outputs": [
    {
     "data": {
      "text/plain": [
       "[\"this is first line,\\nanother line,\\nthat line,it's the best\\n\"]"
      ]
     },
     "execution_count": 29,
     "metadata": {},
     "output_type": "execute_result"
    }
   ],
   "source": [
    "# 成功匹配到 \\ n\n",
    "re.findall(r'(?s)(th.+)',\"\"\"\n",
    "this is first line,\n",
    "another line,\n",
    "that line,it's the best\n",
    "\"\"\")"
   ]
  },
  {
   "cell_type": "code",
   "execution_count": 30,
   "metadata": {},
   "outputs": [
    {
     "data": {
      "text/plain": [
       "[\"this is first line,\\nanother line,\\nthat line,it's the best\\n\"]"
      ]
     },
     "execution_count": 30,
     "metadata": {},
     "output_type": "execute_result"
    }
   ],
   "source": [
    "# 成功匹配到 \\ n\n",
    "re.findall(r'(th.+)',\"\"\"\n",
    "this is first line,\n",
    "another line,\n",
    "that line,it's the best\n",
    "\"\"\", re.S)"
   ]
  },
  {
   "cell_type": "markdown",
   "metadata": {},
   "source": [
    "### re.X/VERBOSE (抑制正则表达式中的空白符，以创建更易读的正则表达式)\n",
    "\n",
    "tips: 空格符可用 [ ] 等字符类代替，并且可以在正则中通过井号 # 来注释"
   ]
  },
  {
   "cell_type": "code",
   "execution_count": 31,
   "metadata": {},
   "outputs": [
    {
     "data": {
      "text/plain": [
       "('800', '555', '1212')"
      ]
     },
     "execution_count": 31,
     "metadata": {},
     "output_type": "execute_result"
    }
   ],
   "source": [
    "re.search(r'''(?x) \n",
    "\\((\\d{3})\\) #区号\n",
    "[ ] #空白符\n",
    "(\\d{3}) #前缀\n",
    "- #横线\n",
    "(\\d{4}) #终点数字''',\n",
    "'(800) 555-1212').groups()"
   ]
  },
  {
   "cell_type": "markdown",
   "metadata": {},
   "source": [
    "### `(?:)` 对正则表达式进行分组，但不保存改分组 常用于需要对改分组进行 +* 等操作，但又不需要将改分组提取的情况"
   ]
  },
  {
   "cell_type": "markdown",
   "metadata": {},
   "source": [
    "使用 (?:) 时，groups 中并未出现 code"
   ]
  },
  {
   "cell_type": "code",
   "execution_count": 32,
   "metadata": {},
   "outputs": [
    {
     "data": {
      "text/plain": [
       "('google.com',)"
      ]
     },
     "execution_count": 32,
     "metadata": {},
     "output_type": "execute_result"
    }
   ],
   "source": [
    "m = re.match(r'http://(?:\\w+\\.)*(\\w+\\.com)','http://code.google.com')\n",
    "m.groups()"
   ]
  },
  {
   "cell_type": "markdown",
   "metadata": {},
   "source": [
    "未使用 (?:) 时，groups 中出现 code"
   ]
  },
  {
   "cell_type": "code",
   "execution_count": 33,
   "metadata": {},
   "outputs": [
    {
     "data": {
      "text/plain": [
       "('code.', 'google.com')"
      ]
     },
     "execution_count": 33,
     "metadata": {},
     "output_type": "execute_result"
    }
   ],
   "source": [
    "m=re.match(r'http://(\\w+\\.)*(\\w+\\.com)', 'http://code.google.com')\n",
    "m.groups()"
   ]
  },
  {
   "cell_type": "code",
   "execution_count": 34,
   "metadata": {},
   "outputs": [
    {
     "data": {
      "text/plain": [
       "['google.com', 'google.com', 'google.com']"
      ]
     },
     "execution_count": 34,
     "metadata": {},
     "output_type": "execute_result"
    }
   ],
   "source": [
    "# 仅提取域名\n",
    "re.findall(r'http://(?:\\w+\\.)*(\\w+\\.com)', \n",
    "           'http://google.com http://www.google.com http://code.google.com')"
   ]
  },
  {
   "cell_type": "markdown",
   "metadata": {},
   "source": [
    "### (?P=name) 使用自定义表示符，而并非 1 至 N 递增\n"
   ]
  },
  {
   "cell_type": "code",
   "execution_count": 35,
   "metadata": {
    "scrolled": true
   },
   "outputs": [
    {
     "name": "stdout",
     "output_type": "stream",
     "text": [
      "AAbb aabb match result is AAbb aabb\n",
      "aabb aabb match result is aabb aabb\n",
      "aabb ccbb match Nothing\n"
     ]
    }
   ],
   "source": [
    "astr1 = 'AAbb aabb'\n",
    "astr2 = 'aabb aabb'\n",
    "astr3 = 'aabb ccbb'\n",
    " \n",
    "for s in astr1,astr2,astr3:\n",
    "    result = re.match(r'(?i)(?P<pattern>[\\w]+) (?P=pattern)',s)\n",
    "    if result:\n",
    "        print(f'{s} match result is {result.group()}')\n",
    "    else:\n",
    "        print(f'{s} match Nothing')"
   ]
  },
  {
   "cell_type": "markdown",
   "metadata": {},
   "source": [
    "从下面例子可以看到 (`?P<pattern>`) 可以用来标记一些模糊的模式，然后在同一个正则表达式中，我们可以通过 (`?P=pattern`) 来复用之前的内容，这就是它们两个的用法区别，一个用于标记，一个用于在同一个正则表达式中复用，特别提醒：同一个正则表达式，这是因为，有些时候我们可能需要在不同的表达式中复用，如下"
   ]
  },
  {
   "cell_type": "code",
   "execution_count": 36,
   "metadata": {
    "scrolled": true
   },
   "outputs": [
    {
     "name": "stdout",
     "output_type": "stream",
     "text": [
      "aabb aacc aadd has been substituted to bbbb bbcc bbdd\n"
     ]
    }
   ],
   "source": [
    "astr = 'aabb aacc aadd'\n",
    "result = re.sub(r'(?i)aa(?P<pattern>[\\w]+)',r'bb\\g<pattern>',astr)\n",
    "print(f'{astr} has been substituted to {result}')"
   ]
  },
  {
   "cell_type": "markdown",
   "metadata": {},
   "source": [
    "可以看到 `\\g<name>` 可以用于不同正则表达式的引用！"
   ]
  },
  {
   "cell_type": "markdown",
   "metadata": {},
   "source": [
    "### (?=) 正向前视匹配断言\n",
    "\n",
    "所谓的前视，就是往正则匹配方向的前方，我们所谓的后方进行判断。通过添加一些判断条件，使匹配更加精准。 匹配后续内容等于 (?=)  中内容的字符串"
   ]
  },
  {
   "cell_type": "code",
   "execution_count": 37,
   "metadata": {},
   "outputs": [
    {
     "data": {
      "text/plain": [
       "['root', 'admin']"
      ]
     },
     "execution_count": 37,
     "metadata": {},
     "output_type": "execute_result"
    }
   ],
   "source": [
    "#匹配域名为 google.com 的用户名\n",
    "re.findall(r'\\w+(?=@google.com)', '''\n",
    "host@baidu.com\n",
    "root@google.com\n",
    "user@qq.com\n",
    "admin@google.com\n",
    "''')"
   ]
  },
  {
   "cell_type": "markdown",
   "metadata": {},
   "source": [
    "### (?!) 负向前视断言\n",
    "\n",
    "匹配后续内容不等于 (?!) 中内容的字符串"
   ]
  },
  {
   "cell_type": "code",
   "execution_count": 38,
   "metadata": {},
   "outputs": [
    {
     "data": {
      "text/plain": [
       "['host@', 'user@']"
      ]
     },
     "execution_count": 38,
     "metadata": {},
     "output_type": "execute_result"
    }
   ],
   "source": [
    "# 匹配域名不为 google 的用户名\n",
    "re.findall(r'(?m)^\\w+@(?!google.com)',''' \n",
    "host@baidu.com\n",
    "root@google.com\n",
    "user@qq.com\n",
    "admin@google.com\n",
    "''')"
   ]
  },
  {
   "cell_type": "markdown",
   "metadata": {},
   "source": [
    "## 非贪婪匹配 ?\n",
    "\n",
    "贪婪匹配：正则表达式通过从左至右，试图尽可能多的获取匹配字符 通过在 * + 后使用 ? 进行非贪婪匹配"
   ]
  }
 ],
 "metadata": {
  "kernelspec": {
   "display_name": "Python 3",
   "language": "python",
   "name": "python3"
  },
  "language_info": {
   "codemirror_mode": {
    "name": "ipython",
    "version": 3
   },
   "file_extension": ".py",
   "mimetype": "text/x-python",
   "name": "python",
   "nbconvert_exporter": "python",
   "pygments_lexer": "ipython3",
   "version": "3.8.5"
  }
 },
 "nbformat": 4,
 "nbformat_minor": 4
}
